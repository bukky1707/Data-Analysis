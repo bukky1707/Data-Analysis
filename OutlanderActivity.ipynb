{
  "nbformat": 4,
  "nbformat_minor": 0,
  "metadata": {
    "colab": {
      "name": "OutlanderActivity.ipynb",
      "provenance": [],
      "authorship_tag": "ABX9TyM2H4Bg+2P6IecTWqtPS11N",
      "include_colab_link": true
    },
    "kernelspec": {
      "name": "python3",
      "display_name": "Python 3"
    },
    "language_info": {
      "name": "python"
    }
  },
  "cells": [
    {
      "cell_type": "markdown",
      "metadata": {
        "id": "view-in-github",
        "colab_type": "text"
      },
      "source": [
        "<a href=\"https://colab.research.google.com/github/bukky1707/Data-Analysis/blob/main/OutlanderActivity.ipynb\" target=\"_parent\"><img src=\"https://colab.research.google.com/assets/colab-badge.svg\" alt=\"Open In Colab\"/></a>"
      ]
    },
    {
      "cell_type": "code",
      "execution_count": 1,
      "metadata": {
        "id": "zJsaWGxihX4w"
      },
      "outputs": [],
      "source": [
        "import pandas as pd\n",
        "import numpy as np"
      ]
    },
    {
      "cell_type": "code",
      "source": [
        "netflix_data = pd.read_csv('ViewingActivity.csv')\n",
        "netflix_data.head()"
      ],
      "metadata": {
        "colab": {
          "base_uri": "https://localhost:8080/",
          "height": 354
        },
        "id": "3lHx0O1UhdNx",
        "outputId": "fb8595a7-fbf4-4f84-a90e-5fb1a2881f7b"
      },
      "execution_count": 2,
      "outputs": [
        {
          "output_type": "execute_result",
          "data": {
            "text/html": [
              "\n",
              "  <div id=\"df-acd75cc8-92a1-4f34-b670-5ebd445a3d03\">\n",
              "    <div class=\"colab-df-container\">\n",
              "      <div>\n",
              "<style scoped>\n",
              "    .dataframe tbody tr th:only-of-type {\n",
              "        vertical-align: middle;\n",
              "    }\n",
              "\n",
              "    .dataframe tbody tr th {\n",
              "        vertical-align: top;\n",
              "    }\n",
              "\n",
              "    .dataframe thead th {\n",
              "        text-align: right;\n",
              "    }\n",
              "</style>\n",
              "<table border=\"1\" class=\"dataframe\">\n",
              "  <thead>\n",
              "    <tr style=\"text-align: right;\">\n",
              "      <th></th>\n",
              "      <th>Profile Name</th>\n",
              "      <th>Start Time</th>\n",
              "      <th>Duration</th>\n",
              "      <th>Attributes</th>\n",
              "      <th>Title</th>\n",
              "      <th>Supplemental Video Type</th>\n",
              "      <th>Device Type</th>\n",
              "      <th>Bookmark</th>\n",
              "      <th>Latest Bookmark</th>\n",
              "      <th>Country</th>\n",
              "    </tr>\n",
              "  </thead>\n",
              "  <tbody>\n",
              "    <tr>\n",
              "      <th>0</th>\n",
              "      <td>Ayo</td>\n",
              "      <td>2021-12-30 13:23:17</td>\n",
              "      <td>00:12:08</td>\n",
              "      <td>NaN</td>\n",
              "      <td>The Witcher: Season 2: What Is Lost (Episode 3)</td>\n",
              "      <td>NaN</td>\n",
              "      <td>Apple iPhone 11</td>\n",
              "      <td>00:14:33</td>\n",
              "      <td>00:14:33</td>\n",
              "      <td>US (United States)</td>\n",
              "    </tr>\n",
              "    <tr>\n",
              "      <th>1</th>\n",
              "      <td>Ayo</td>\n",
              "      <td>2021-12-30 12:47:03</td>\n",
              "      <td>00:34:36</td>\n",
              "      <td>NaN</td>\n",
              "      <td>The Witcher: Season 2: Kaer Morhen (Episode 2)</td>\n",
              "      <td>NaN</td>\n",
              "      <td>Apple iPhone 11</td>\n",
              "      <td>00:54:18</td>\n",
              "      <td>00:54:18</td>\n",
              "      <td>US (United States)</td>\n",
              "    </tr>\n",
              "    <tr>\n",
              "      <th>2</th>\n",
              "      <td>Ayo</td>\n",
              "      <td>2021-12-30 12:33:42</td>\n",
              "      <td>00:12:35</td>\n",
              "      <td>NaN</td>\n",
              "      <td>The Witcher: Season 2: A Grain of Truth (Episo...</td>\n",
              "      <td>NaN</td>\n",
              "      <td>Apple iPhone 11</td>\n",
              "      <td>00:59:14</td>\n",
              "      <td>00:59:14</td>\n",
              "      <td>US (United States)</td>\n",
              "    </tr>\n",
              "    <tr>\n",
              "      <th>3</th>\n",
              "      <td>Ayo</td>\n",
              "      <td>2021-12-30 05:21:37</td>\n",
              "      <td>00:33:33</td>\n",
              "      <td>NaN</td>\n",
              "      <td>The Witcher: Season 2: A Grain of Truth (Episo...</td>\n",
              "      <td>NaN</td>\n",
              "      <td>Apple iPhone 11</td>\n",
              "      <td>00:36:30</td>\n",
              "      <td>Not latest view</td>\n",
              "      <td>US (United States)</td>\n",
              "    </tr>\n",
              "    <tr>\n",
              "      <th>4</th>\n",
              "      <td>Ayo</td>\n",
              "      <td>2021-12-30 04:29:56</td>\n",
              "      <td>00:44:05</td>\n",
              "      <td>NaN</td>\n",
              "      <td>The Witcher: Season 1: Much More (Episode 8)</td>\n",
              "      <td>NaN</td>\n",
              "      <td>Apple iPhone 11</td>\n",
              "      <td>00:57:04</td>\n",
              "      <td>00:57:04</td>\n",
              "      <td>US (United States)</td>\n",
              "    </tr>\n",
              "  </tbody>\n",
              "</table>\n",
              "</div>\n",
              "      <button class=\"colab-df-convert\" onclick=\"convertToInteractive('df-acd75cc8-92a1-4f34-b670-5ebd445a3d03')\"\n",
              "              title=\"Convert this dataframe to an interactive table.\"\n",
              "              style=\"display:none;\">\n",
              "        \n",
              "  <svg xmlns=\"http://www.w3.org/2000/svg\" height=\"24px\"viewBox=\"0 0 24 24\"\n",
              "       width=\"24px\">\n",
              "    <path d=\"M0 0h24v24H0V0z\" fill=\"none\"/>\n",
              "    <path d=\"M18.56 5.44l.94 2.06.94-2.06 2.06-.94-2.06-.94-.94-2.06-.94 2.06-2.06.94zm-11 1L8.5 8.5l.94-2.06 2.06-.94-2.06-.94L8.5 2.5l-.94 2.06-2.06.94zm10 10l.94 2.06.94-2.06 2.06-.94-2.06-.94-.94-2.06-.94 2.06-2.06.94z\"/><path d=\"M17.41 7.96l-1.37-1.37c-.4-.4-.92-.59-1.43-.59-.52 0-1.04.2-1.43.59L10.3 9.45l-7.72 7.72c-.78.78-.78 2.05 0 2.83L4 21.41c.39.39.9.59 1.41.59.51 0 1.02-.2 1.41-.59l7.78-7.78 2.81-2.81c.8-.78.8-2.07 0-2.86zM5.41 20L4 18.59l7.72-7.72 1.47 1.35L5.41 20z\"/>\n",
              "  </svg>\n",
              "      </button>\n",
              "      \n",
              "  <style>\n",
              "    .colab-df-container {\n",
              "      display:flex;\n",
              "      flex-wrap:wrap;\n",
              "      gap: 12px;\n",
              "    }\n",
              "\n",
              "    .colab-df-convert {\n",
              "      background-color: #E8F0FE;\n",
              "      border: none;\n",
              "      border-radius: 50%;\n",
              "      cursor: pointer;\n",
              "      display: none;\n",
              "      fill: #1967D2;\n",
              "      height: 32px;\n",
              "      padding: 0 0 0 0;\n",
              "      width: 32px;\n",
              "    }\n",
              "\n",
              "    .colab-df-convert:hover {\n",
              "      background-color: #E2EBFA;\n",
              "      box-shadow: 0px 1px 2px rgba(60, 64, 67, 0.3), 0px 1px 3px 1px rgba(60, 64, 67, 0.15);\n",
              "      fill: #174EA6;\n",
              "    }\n",
              "\n",
              "    [theme=dark] .colab-df-convert {\n",
              "      background-color: #3B4455;\n",
              "      fill: #D2E3FC;\n",
              "    }\n",
              "\n",
              "    [theme=dark] .colab-df-convert:hover {\n",
              "      background-color: #434B5C;\n",
              "      box-shadow: 0px 1px 3px 1px rgba(0, 0, 0, 0.15);\n",
              "      filter: drop-shadow(0px 1px 2px rgba(0, 0, 0, 0.3));\n",
              "      fill: #FFFFFF;\n",
              "    }\n",
              "  </style>\n",
              "\n",
              "      <script>\n",
              "        const buttonEl =\n",
              "          document.querySelector('#df-acd75cc8-92a1-4f34-b670-5ebd445a3d03 button.colab-df-convert');\n",
              "        buttonEl.style.display =\n",
              "          google.colab.kernel.accessAllowed ? 'block' : 'none';\n",
              "\n",
              "        async function convertToInteractive(key) {\n",
              "          const element = document.querySelector('#df-acd75cc8-92a1-4f34-b670-5ebd445a3d03');\n",
              "          const dataTable =\n",
              "            await google.colab.kernel.invokeFunction('convertToInteractive',\n",
              "                                                     [key], {});\n",
              "          if (!dataTable) return;\n",
              "\n",
              "          const docLinkHtml = 'Like what you see? Visit the ' +\n",
              "            '<a target=\"_blank\" href=https://colab.research.google.com/notebooks/data_table.ipynb>data table notebook</a>'\n",
              "            + ' to learn more about interactive tables.';\n",
              "          element.innerHTML = '';\n",
              "          dataTable['output_type'] = 'display_data';\n",
              "          await google.colab.output.renderOutput(dataTable, element);\n",
              "          const docLink = document.createElement('div');\n",
              "          docLink.innerHTML = docLinkHtml;\n",
              "          element.appendChild(docLink);\n",
              "        }\n",
              "      </script>\n",
              "    </div>\n",
              "  </div>\n",
              "  "
            ],
            "text/plain": [
              "  Profile Name           Start Time  ...  Latest Bookmark             Country\n",
              "0          Ayo  2021-12-30 13:23:17  ...         00:14:33  US (United States)\n",
              "1          Ayo  2021-12-30 12:47:03  ...         00:54:18  US (United States)\n",
              "2          Ayo  2021-12-30 12:33:42  ...         00:59:14  US (United States)\n",
              "3          Ayo  2021-12-30 05:21:37  ...  Not latest view  US (United States)\n",
              "4          Ayo  2021-12-30 04:29:56  ...         00:57:04  US (United States)\n",
              "\n",
              "[5 rows x 10 columns]"
            ]
          },
          "metadata": {},
          "execution_count": 2
        }
      ]
    },
    {
      "cell_type": "code",
      "source": [
        "netflix_data.shape"
      ],
      "metadata": {
        "colab": {
          "base_uri": "https://localhost:8080/"
        },
        "id": "kn1B_-pairnF",
        "outputId": "89ba69ec-b6e1-4fe2-bcc4-e485e6618963"
      },
      "execution_count": 3,
      "outputs": [
        {
          "output_type": "execute_result",
          "data": {
            "text/plain": [
              "(6946, 10)"
            ]
          },
          "metadata": {},
          "execution_count": 3
        }
      ]
    },
    {
      "cell_type": "code",
      "source": [
        "netflix_data = netflix_data.drop(['Profile Name', 'Attributes', 'Supplemental Video Type', 'Device Type', 'Bookmark', 'Latest Bookmark', 'Country'], axis=1)"
      ],
      "metadata": {
        "id": "yHjSHkObi9HS"
      },
      "execution_count": 4,
      "outputs": []
    },
    {
      "cell_type": "code",
      "source": [
        "netflix_data.head(1)"
      ],
      "metadata": {
        "colab": {
          "base_uri": "https://localhost:8080/",
          "height": 81
        },
        "id": "vQnnfyfsxFoR",
        "outputId": "5002a2a5-2a90-4e1a-c770-49110a40ea9a"
      },
      "execution_count": 5,
      "outputs": [
        {
          "output_type": "execute_result",
          "data": {
            "text/html": [
              "\n",
              "  <div id=\"df-67da2f97-c47d-4140-979c-147885dc4ed5\">\n",
              "    <div class=\"colab-df-container\">\n",
              "      <div>\n",
              "<style scoped>\n",
              "    .dataframe tbody tr th:only-of-type {\n",
              "        vertical-align: middle;\n",
              "    }\n",
              "\n",
              "    .dataframe tbody tr th {\n",
              "        vertical-align: top;\n",
              "    }\n",
              "\n",
              "    .dataframe thead th {\n",
              "        text-align: right;\n",
              "    }\n",
              "</style>\n",
              "<table border=\"1\" class=\"dataframe\">\n",
              "  <thead>\n",
              "    <tr style=\"text-align: right;\">\n",
              "      <th></th>\n",
              "      <th>Start Time</th>\n",
              "      <th>Duration</th>\n",
              "      <th>Title</th>\n",
              "    </tr>\n",
              "  </thead>\n",
              "  <tbody>\n",
              "    <tr>\n",
              "      <th>0</th>\n",
              "      <td>2021-12-30 13:23:17</td>\n",
              "      <td>00:12:08</td>\n",
              "      <td>The Witcher: Season 2: What Is Lost (Episode 3)</td>\n",
              "    </tr>\n",
              "  </tbody>\n",
              "</table>\n",
              "</div>\n",
              "      <button class=\"colab-df-convert\" onclick=\"convertToInteractive('df-67da2f97-c47d-4140-979c-147885dc4ed5')\"\n",
              "              title=\"Convert this dataframe to an interactive table.\"\n",
              "              style=\"display:none;\">\n",
              "        \n",
              "  <svg xmlns=\"http://www.w3.org/2000/svg\" height=\"24px\"viewBox=\"0 0 24 24\"\n",
              "       width=\"24px\">\n",
              "    <path d=\"M0 0h24v24H0V0z\" fill=\"none\"/>\n",
              "    <path d=\"M18.56 5.44l.94 2.06.94-2.06 2.06-.94-2.06-.94-.94-2.06-.94 2.06-2.06.94zm-11 1L8.5 8.5l.94-2.06 2.06-.94-2.06-.94L8.5 2.5l-.94 2.06-2.06.94zm10 10l.94 2.06.94-2.06 2.06-.94-2.06-.94-.94-2.06-.94 2.06-2.06.94z\"/><path d=\"M17.41 7.96l-1.37-1.37c-.4-.4-.92-.59-1.43-.59-.52 0-1.04.2-1.43.59L10.3 9.45l-7.72 7.72c-.78.78-.78 2.05 0 2.83L4 21.41c.39.39.9.59 1.41.59.51 0 1.02-.2 1.41-.59l7.78-7.78 2.81-2.81c.8-.78.8-2.07 0-2.86zM5.41 20L4 18.59l7.72-7.72 1.47 1.35L5.41 20z\"/>\n",
              "  </svg>\n",
              "      </button>\n",
              "      \n",
              "  <style>\n",
              "    .colab-df-container {\n",
              "      display:flex;\n",
              "      flex-wrap:wrap;\n",
              "      gap: 12px;\n",
              "    }\n",
              "\n",
              "    .colab-df-convert {\n",
              "      background-color: #E8F0FE;\n",
              "      border: none;\n",
              "      border-radius: 50%;\n",
              "      cursor: pointer;\n",
              "      display: none;\n",
              "      fill: #1967D2;\n",
              "      height: 32px;\n",
              "      padding: 0 0 0 0;\n",
              "      width: 32px;\n",
              "    }\n",
              "\n",
              "    .colab-df-convert:hover {\n",
              "      background-color: #E2EBFA;\n",
              "      box-shadow: 0px 1px 2px rgba(60, 64, 67, 0.3), 0px 1px 3px 1px rgba(60, 64, 67, 0.15);\n",
              "      fill: #174EA6;\n",
              "    }\n",
              "\n",
              "    [theme=dark] .colab-df-convert {\n",
              "      background-color: #3B4455;\n",
              "      fill: #D2E3FC;\n",
              "    }\n",
              "\n",
              "    [theme=dark] .colab-df-convert:hover {\n",
              "      background-color: #434B5C;\n",
              "      box-shadow: 0px 1px 3px 1px rgba(0, 0, 0, 0.15);\n",
              "      filter: drop-shadow(0px 1px 2px rgba(0, 0, 0, 0.3));\n",
              "      fill: #FFFFFF;\n",
              "    }\n",
              "  </style>\n",
              "\n",
              "      <script>\n",
              "        const buttonEl =\n",
              "          document.querySelector('#df-67da2f97-c47d-4140-979c-147885dc4ed5 button.colab-df-convert');\n",
              "        buttonEl.style.display =\n",
              "          google.colab.kernel.accessAllowed ? 'block' : 'none';\n",
              "\n",
              "        async function convertToInteractive(key) {\n",
              "          const element = document.querySelector('#df-67da2f97-c47d-4140-979c-147885dc4ed5');\n",
              "          const dataTable =\n",
              "            await google.colab.kernel.invokeFunction('convertToInteractive',\n",
              "                                                     [key], {});\n",
              "          if (!dataTable) return;\n",
              "\n",
              "          const docLinkHtml = 'Like what you see? Visit the ' +\n",
              "            '<a target=\"_blank\" href=https://colab.research.google.com/notebooks/data_table.ipynb>data table notebook</a>'\n",
              "            + ' to learn more about interactive tables.';\n",
              "          element.innerHTML = '';\n",
              "          dataTable['output_type'] = 'display_data';\n",
              "          await google.colab.output.renderOutput(dataTable, element);\n",
              "          const docLink = document.createElement('div');\n",
              "          docLink.innerHTML = docLinkHtml;\n",
              "          element.appendChild(docLink);\n",
              "        }\n",
              "      </script>\n",
              "    </div>\n",
              "  </div>\n",
              "  "
            ],
            "text/plain": [
              "            Start Time  ...                                            Title\n",
              "0  2021-12-30 13:23:17  ...  The Witcher: Season 2: What Is Lost (Episode 3)\n",
              "\n",
              "[1 rows x 3 columns]"
            ]
          },
          "metadata": {},
          "execution_count": 5
        }
      ]
    },
    {
      "cell_type": "code",
      "source": [
        "netflix_data.dtypes"
      ],
      "metadata": {
        "colab": {
          "base_uri": "https://localhost:8080/"
        },
        "id": "bhzcYXMHxLe-",
        "outputId": "fc4e1aac-3420-4c87-eef6-04bad0436718"
      },
      "execution_count": 6,
      "outputs": [
        {
          "output_type": "execute_result",
          "data": {
            "text/plain": [
              "Start Time    object\n",
              "Duration      object\n",
              "Title         object\n",
              "dtype: object"
            ]
          },
          "metadata": {},
          "execution_count": 6
        }
      ]
    },
    {
      "cell_type": "code",
      "source": [
        "netflix_data['Start Time'] = pd.to_datetime(netflix_data['Start Time'],utc=True)"
      ],
      "metadata": {
        "id": "cKDZ5IXXxvHs"
      },
      "execution_count": 7,
      "outputs": []
    },
    {
      "cell_type": "code",
      "source": [
        "netflix_data.dtypes"
      ],
      "metadata": {
        "colab": {
          "base_uri": "https://localhost:8080/"
        },
        "id": "4HYiV0ToyLyx",
        "outputId": "e285688b-ccd7-494d-cabf-17adec225a10"
      },
      "execution_count": 8,
      "outputs": [
        {
          "output_type": "execute_result",
          "data": {
            "text/plain": [
              "Start Time    datetime64[ns, UTC]\n",
              "Duration                   object\n",
              "Title                      object\n",
              "dtype: object"
            ]
          },
          "metadata": {},
          "execution_count": 8
        }
      ]
    },
    {
      "cell_type": "code",
      "source": [
        "netflix_data = netflix_data.set_index('Start Time')\n",
        "# convert from UTC timezone to eastern time\n",
        "netflix_data.index = netflix_data.index.tz_convert('US/Eastern')\n",
        "# reset the index so that Start Time becomes a column again\n",
        "netflix_data = netflix_data.reset_index()\n",
        "#double-check that it worked\n",
        "netflix_data.head(1)"
      ],
      "metadata": {
        "colab": {
          "base_uri": "https://localhost:8080/",
          "height": 81
        },
        "id": "iy_ODWqxyPrl",
        "outputId": "18562bb1-de8d-4fe5-9f90-aa107179548c"
      },
      "execution_count": 9,
      "outputs": [
        {
          "output_type": "execute_result",
          "data": {
            "text/html": [
              "\n",
              "  <div id=\"df-a26e9da1-b1c2-43f8-8061-4701ec6acfd8\">\n",
              "    <div class=\"colab-df-container\">\n",
              "      <div>\n",
              "<style scoped>\n",
              "    .dataframe tbody tr th:only-of-type {\n",
              "        vertical-align: middle;\n",
              "    }\n",
              "\n",
              "    .dataframe tbody tr th {\n",
              "        vertical-align: top;\n",
              "    }\n",
              "\n",
              "    .dataframe thead th {\n",
              "        text-align: right;\n",
              "    }\n",
              "</style>\n",
              "<table border=\"1\" class=\"dataframe\">\n",
              "  <thead>\n",
              "    <tr style=\"text-align: right;\">\n",
              "      <th></th>\n",
              "      <th>Start Time</th>\n",
              "      <th>Duration</th>\n",
              "      <th>Title</th>\n",
              "    </tr>\n",
              "  </thead>\n",
              "  <tbody>\n",
              "    <tr>\n",
              "      <th>0</th>\n",
              "      <td>2021-12-30 08:23:17-05:00</td>\n",
              "      <td>00:12:08</td>\n",
              "      <td>The Witcher: Season 2: What Is Lost (Episode 3)</td>\n",
              "    </tr>\n",
              "  </tbody>\n",
              "</table>\n",
              "</div>\n",
              "      <button class=\"colab-df-convert\" onclick=\"convertToInteractive('df-a26e9da1-b1c2-43f8-8061-4701ec6acfd8')\"\n",
              "              title=\"Convert this dataframe to an interactive table.\"\n",
              "              style=\"display:none;\">\n",
              "        \n",
              "  <svg xmlns=\"http://www.w3.org/2000/svg\" height=\"24px\"viewBox=\"0 0 24 24\"\n",
              "       width=\"24px\">\n",
              "    <path d=\"M0 0h24v24H0V0z\" fill=\"none\"/>\n",
              "    <path d=\"M18.56 5.44l.94 2.06.94-2.06 2.06-.94-2.06-.94-.94-2.06-.94 2.06-2.06.94zm-11 1L8.5 8.5l.94-2.06 2.06-.94-2.06-.94L8.5 2.5l-.94 2.06-2.06.94zm10 10l.94 2.06.94-2.06 2.06-.94-2.06-.94-.94-2.06-.94 2.06-2.06.94z\"/><path d=\"M17.41 7.96l-1.37-1.37c-.4-.4-.92-.59-1.43-.59-.52 0-1.04.2-1.43.59L10.3 9.45l-7.72 7.72c-.78.78-.78 2.05 0 2.83L4 21.41c.39.39.9.59 1.41.59.51 0 1.02-.2 1.41-.59l7.78-7.78 2.81-2.81c.8-.78.8-2.07 0-2.86zM5.41 20L4 18.59l7.72-7.72 1.47 1.35L5.41 20z\"/>\n",
              "  </svg>\n",
              "      </button>\n",
              "      \n",
              "  <style>\n",
              "    .colab-df-container {\n",
              "      display:flex;\n",
              "      flex-wrap:wrap;\n",
              "      gap: 12px;\n",
              "    }\n",
              "\n",
              "    .colab-df-convert {\n",
              "      background-color: #E8F0FE;\n",
              "      border: none;\n",
              "      border-radius: 50%;\n",
              "      cursor: pointer;\n",
              "      display: none;\n",
              "      fill: #1967D2;\n",
              "      height: 32px;\n",
              "      padding: 0 0 0 0;\n",
              "      width: 32px;\n",
              "    }\n",
              "\n",
              "    .colab-df-convert:hover {\n",
              "      background-color: #E2EBFA;\n",
              "      box-shadow: 0px 1px 2px rgba(60, 64, 67, 0.3), 0px 1px 3px 1px rgba(60, 64, 67, 0.15);\n",
              "      fill: #174EA6;\n",
              "    }\n",
              "\n",
              "    [theme=dark] .colab-df-convert {\n",
              "      background-color: #3B4455;\n",
              "      fill: #D2E3FC;\n",
              "    }\n",
              "\n",
              "    [theme=dark] .colab-df-convert:hover {\n",
              "      background-color: #434B5C;\n",
              "      box-shadow: 0px 1px 3px 1px rgba(0, 0, 0, 0.15);\n",
              "      filter: drop-shadow(0px 1px 2px rgba(0, 0, 0, 0.3));\n",
              "      fill: #FFFFFF;\n",
              "    }\n",
              "  </style>\n",
              "\n",
              "      <script>\n",
              "        const buttonEl =\n",
              "          document.querySelector('#df-a26e9da1-b1c2-43f8-8061-4701ec6acfd8 button.colab-df-convert');\n",
              "        buttonEl.style.display =\n",
              "          google.colab.kernel.accessAllowed ? 'block' : 'none';\n",
              "\n",
              "        async function convertToInteractive(key) {\n",
              "          const element = document.querySelector('#df-a26e9da1-b1c2-43f8-8061-4701ec6acfd8');\n",
              "          const dataTable =\n",
              "            await google.colab.kernel.invokeFunction('convertToInteractive',\n",
              "                                                     [key], {});\n",
              "          if (!dataTable) return;\n",
              "\n",
              "          const docLinkHtml = 'Like what you see? Visit the ' +\n",
              "            '<a target=\"_blank\" href=https://colab.research.google.com/notebooks/data_table.ipynb>data table notebook</a>'\n",
              "            + ' to learn more about interactive tables.';\n",
              "          element.innerHTML = '';\n",
              "          dataTable['output_type'] = 'display_data';\n",
              "          await google.colab.output.renderOutput(dataTable, element);\n",
              "          const docLink = document.createElement('div');\n",
              "          docLink.innerHTML = docLinkHtml;\n",
              "          element.appendChild(docLink);\n",
              "        }\n",
              "      </script>\n",
              "    </div>\n",
              "  </div>\n",
              "  "
            ],
            "text/plain": [
              "                 Start Time  ...                                            Title\n",
              "0 2021-12-30 08:23:17-05:00  ...  The Witcher: Season 2: What Is Lost (Episode 3)\n",
              "\n",
              "[1 rows x 3 columns]"
            ]
          },
          "metadata": {},
          "execution_count": 9
        }
      ]
    },
    {
      "cell_type": "code",
      "source": [
        "netflix_data['Duration'] = pd.to_timedelta(netflix_data['Duration'])\n",
        "netflix_data.dtypes"
      ],
      "metadata": {
        "colab": {
          "base_uri": "https://localhost:8080/"
        },
        "id": "H5XcqVH6QD-J",
        "outputId": "aea66c12-18f3-42ab-a485-2259d601f528"
      },
      "execution_count": 10,
      "outputs": [
        {
          "output_type": "execute_result",
          "data": {
            "text/plain": [
              "Start Time    datetime64[ns, US/Eastern]\n",
              "Duration                 timedelta64[ns]\n",
              "Title                             object\n",
              "dtype: object"
            ]
          },
          "metadata": {},
          "execution_count": 10
        }
      ]
    },
    {
      "cell_type": "code",
      "source": [
        "outlander = netflix_data[netflix_data['Title'].str.contains('Outlander', regex=False)]"
      ],
      "metadata": {
        "id": "eGpLABIlQ9Zl"
      },
      "execution_count": 11,
      "outputs": []
    },
    {
      "cell_type": "code",
      "source": [
        "outlander.sample(20)"
      ],
      "metadata": {
        "colab": {
          "base_uri": "https://localhost:8080/",
          "height": 676
        },
        "id": "mGU6Do3pSkMR",
        "outputId": "5c15be44-41bd-40b4-ca22-289eb08353cc"
      },
      "execution_count": 12,
      "outputs": [
        {
          "output_type": "execute_result",
          "data": {
            "text/html": [
              "\n",
              "  <div id=\"df-d841910d-5802-4499-b673-182cf73f6386\">\n",
              "    <div class=\"colab-df-container\">\n",
              "      <div>\n",
              "<style scoped>\n",
              "    .dataframe tbody tr th:only-of-type {\n",
              "        vertical-align: middle;\n",
              "    }\n",
              "\n",
              "    .dataframe tbody tr th {\n",
              "        vertical-align: top;\n",
              "    }\n",
              "\n",
              "    .dataframe thead th {\n",
              "        text-align: right;\n",
              "    }\n",
              "</style>\n",
              "<table border=\"1\" class=\"dataframe\">\n",
              "  <thead>\n",
              "    <tr style=\"text-align: right;\">\n",
              "      <th></th>\n",
              "      <th>Start Time</th>\n",
              "      <th>Duration</th>\n",
              "      <th>Title</th>\n",
              "    </tr>\n",
              "  </thead>\n",
              "  <tbody>\n",
              "    <tr>\n",
              "      <th>3592</th>\n",
              "      <td>2021-02-16 01:09:53-05:00</td>\n",
              "      <td>0 days 00:00:59</td>\n",
              "      <td>Outlander: Season 2: Through a Glass, Darkly (...</td>\n",
              "    </tr>\n",
              "    <tr>\n",
              "      <th>3061</th>\n",
              "      <td>2021-04-25 03:10:19-04:00</td>\n",
              "      <td>0 days 00:52:06</td>\n",
              "      <td>Outlander: Season 3: The Doldrums (Episode 9)</td>\n",
              "    </tr>\n",
              "    <tr>\n",
              "      <th>3583</th>\n",
              "      <td>2021-02-19 02:18:03-05:00</td>\n",
              "      <td>0 days 00:23:36</td>\n",
              "      <td>Outlander: Season 2: Untimely Resurrection (Ep...</td>\n",
              "    </tr>\n",
              "    <tr>\n",
              "      <th>3027</th>\n",
              "      <td>2021-04-28 01:49:04-04:00</td>\n",
              "      <td>0 days 01:02:45</td>\n",
              "      <td>Outlander: Season 3: A. Malcolm (Episode 6)</td>\n",
              "    </tr>\n",
              "    <tr>\n",
              "      <th>3062</th>\n",
              "      <td>2021-04-25 02:13:55-04:00</td>\n",
              "      <td>0 days 00:55:30</td>\n",
              "      <td>Outlander: Season 3: First Wife (Episode 8)</td>\n",
              "    </tr>\n",
              "    <tr>\n",
              "      <th>3212</th>\n",
              "      <td>2021-04-11 02:45:13-04:00</td>\n",
              "      <td>0 days 00:13:00</td>\n",
              "      <td>Outlander: Season 1: Both Sides Now (Episode 8)</td>\n",
              "    </tr>\n",
              "    <tr>\n",
              "      <th>3026</th>\n",
              "      <td>2021-04-28 02:53:15-04:00</td>\n",
              "      <td>0 days 00:47:20</td>\n",
              "      <td>Outlander: Season 4: The Birds &amp; The Bees (Epi...</td>\n",
              "    </tr>\n",
              "    <tr>\n",
              "      <th>3033</th>\n",
              "      <td>2021-04-27 22:17:49-04:00</td>\n",
              "      <td>0 days 00:10:16</td>\n",
              "      <td>Outlander: Season 4: The False Bride (Episode 3)</td>\n",
              "    </tr>\n",
              "    <tr>\n",
              "      <th>3137</th>\n",
              "      <td>2021-04-18 00:50:53-04:00</td>\n",
              "      <td>0 days 00:02:31</td>\n",
              "      <td>Outlander: Season 3: Surrender (Episode 2)</td>\n",
              "    </tr>\n",
              "    <tr>\n",
              "      <th>3581</th>\n",
              "      <td>2021-02-19 10:41:21-05:00</td>\n",
              "      <td>0 days 00:21:29</td>\n",
              "      <td>Outlander: Season 2: Best Laid Schemes (Episod...</td>\n",
              "    </tr>\n",
              "    <tr>\n",
              "      <th>3605</th>\n",
              "      <td>2021-02-15 01:29:14-05:00</td>\n",
              "      <td>0 days 00:53:19</td>\n",
              "      <td>Outlander: Season 1: The Garrison Commander (E...</td>\n",
              "    </tr>\n",
              "    <tr>\n",
              "      <th>3585</th>\n",
              "      <td>2021-02-18 21:00:25-05:00</td>\n",
              "      <td>0 days 00:14:55</td>\n",
              "      <td>Outlander: Season 2: La Dame Blanche (Episode 4)</td>\n",
              "    </tr>\n",
              "    <tr>\n",
              "      <th>3495</th>\n",
              "      <td>2021-02-28 15:08:49-05:00</td>\n",
              "      <td>0 days 00:00:13</td>\n",
              "      <td>Outlander: Season 2: Best Laid Schemes (Episod...</td>\n",
              "    </tr>\n",
              "    <tr>\n",
              "      <th>3054</th>\n",
              "      <td>2021-04-25 16:02:09-04:00</td>\n",
              "      <td>0 days 00:10:30</td>\n",
              "      <td>Outlander: Season 3: The Bakra (Episode 12)</td>\n",
              "    </tr>\n",
              "    <tr>\n",
              "      <th>3432</th>\n",
              "      <td>2021-03-09 01:06:32-05:00</td>\n",
              "      <td>0 days 00:22:54</td>\n",
              "      <td>Outlander: Season 2: Faith (Episode 7)</td>\n",
              "    </tr>\n",
              "    <tr>\n",
              "      <th>3763</th>\n",
              "      <td>2021-01-26 19:01:02-05:00</td>\n",
              "      <td>0 days 00:00:07</td>\n",
              "      <td>Outlander: Season 2_hook_primary_16x9</td>\n",
              "    </tr>\n",
              "    <tr>\n",
              "      <th>3044</th>\n",
              "      <td>2021-04-26 00:02:14-04:00</td>\n",
              "      <td>0 days 00:10:26</td>\n",
              "      <td>Outlander: Season 4: Do No Harm (Episode 2)</td>\n",
              "    </tr>\n",
              "    <tr>\n",
              "      <th>3607</th>\n",
              "      <td>2021-02-14 23:40:14-05:00</td>\n",
              "      <td>0 days 00:53:18</td>\n",
              "      <td>Outlander: Season 1: The Gathering (Episode 4)</td>\n",
              "    </tr>\n",
              "    <tr>\n",
              "      <th>3609</th>\n",
              "      <td>2021-02-14 22:02:26-05:00</td>\n",
              "      <td>0 days 00:44:48</td>\n",
              "      <td>Outlander: Season 1: Castle Leoch (Episode 2)</td>\n",
              "    </tr>\n",
              "    <tr>\n",
              "      <th>3207</th>\n",
              "      <td>2021-04-11 21:22:53-04:00</td>\n",
              "      <td>0 days 00:01:35</td>\n",
              "      <td>Outlander: Season 3: Surrender (Episode 2)</td>\n",
              "    </tr>\n",
              "  </tbody>\n",
              "</table>\n",
              "</div>\n",
              "      <button class=\"colab-df-convert\" onclick=\"convertToInteractive('df-d841910d-5802-4499-b673-182cf73f6386')\"\n",
              "              title=\"Convert this dataframe to an interactive table.\"\n",
              "              style=\"display:none;\">\n",
              "        \n",
              "  <svg xmlns=\"http://www.w3.org/2000/svg\" height=\"24px\"viewBox=\"0 0 24 24\"\n",
              "       width=\"24px\">\n",
              "    <path d=\"M0 0h24v24H0V0z\" fill=\"none\"/>\n",
              "    <path d=\"M18.56 5.44l.94 2.06.94-2.06 2.06-.94-2.06-.94-.94-2.06-.94 2.06-2.06.94zm-11 1L8.5 8.5l.94-2.06 2.06-.94-2.06-.94L8.5 2.5l-.94 2.06-2.06.94zm10 10l.94 2.06.94-2.06 2.06-.94-2.06-.94-.94-2.06-.94 2.06-2.06.94z\"/><path d=\"M17.41 7.96l-1.37-1.37c-.4-.4-.92-.59-1.43-.59-.52 0-1.04.2-1.43.59L10.3 9.45l-7.72 7.72c-.78.78-.78 2.05 0 2.83L4 21.41c.39.39.9.59 1.41.59.51 0 1.02-.2 1.41-.59l7.78-7.78 2.81-2.81c.8-.78.8-2.07 0-2.86zM5.41 20L4 18.59l7.72-7.72 1.47 1.35L5.41 20z\"/>\n",
              "  </svg>\n",
              "      </button>\n",
              "      \n",
              "  <style>\n",
              "    .colab-df-container {\n",
              "      display:flex;\n",
              "      flex-wrap:wrap;\n",
              "      gap: 12px;\n",
              "    }\n",
              "\n",
              "    .colab-df-convert {\n",
              "      background-color: #E8F0FE;\n",
              "      border: none;\n",
              "      border-radius: 50%;\n",
              "      cursor: pointer;\n",
              "      display: none;\n",
              "      fill: #1967D2;\n",
              "      height: 32px;\n",
              "      padding: 0 0 0 0;\n",
              "      width: 32px;\n",
              "    }\n",
              "\n",
              "    .colab-df-convert:hover {\n",
              "      background-color: #E2EBFA;\n",
              "      box-shadow: 0px 1px 2px rgba(60, 64, 67, 0.3), 0px 1px 3px 1px rgba(60, 64, 67, 0.15);\n",
              "      fill: #174EA6;\n",
              "    }\n",
              "\n",
              "    [theme=dark] .colab-df-convert {\n",
              "      background-color: #3B4455;\n",
              "      fill: #D2E3FC;\n",
              "    }\n",
              "\n",
              "    [theme=dark] .colab-df-convert:hover {\n",
              "      background-color: #434B5C;\n",
              "      box-shadow: 0px 1px 3px 1px rgba(0, 0, 0, 0.15);\n",
              "      filter: drop-shadow(0px 1px 2px rgba(0, 0, 0, 0.3));\n",
              "      fill: #FFFFFF;\n",
              "    }\n",
              "  </style>\n",
              "\n",
              "      <script>\n",
              "        const buttonEl =\n",
              "          document.querySelector('#df-d841910d-5802-4499-b673-182cf73f6386 button.colab-df-convert');\n",
              "        buttonEl.style.display =\n",
              "          google.colab.kernel.accessAllowed ? 'block' : 'none';\n",
              "\n",
              "        async function convertToInteractive(key) {\n",
              "          const element = document.querySelector('#df-d841910d-5802-4499-b673-182cf73f6386');\n",
              "          const dataTable =\n",
              "            await google.colab.kernel.invokeFunction('convertToInteractive',\n",
              "                                                     [key], {});\n",
              "          if (!dataTable) return;\n",
              "\n",
              "          const docLinkHtml = 'Like what you see? Visit the ' +\n",
              "            '<a target=\"_blank\" href=https://colab.research.google.com/notebooks/data_table.ipynb>data table notebook</a>'\n",
              "            + ' to learn more about interactive tables.';\n",
              "          element.innerHTML = '';\n",
              "          dataTable['output_type'] = 'display_data';\n",
              "          await google.colab.output.renderOutput(dataTable, element);\n",
              "          const docLink = document.createElement('div');\n",
              "          docLink.innerHTML = docLinkHtml;\n",
              "          element.appendChild(docLink);\n",
              "        }\n",
              "      </script>\n",
              "    </div>\n",
              "  </div>\n",
              "  "
            ],
            "text/plain": [
              "                    Start Time  ...                                              Title\n",
              "3592 2021-02-16 01:09:53-05:00  ...  Outlander: Season 2: Through a Glass, Darkly (...\n",
              "3061 2021-04-25 03:10:19-04:00  ...      Outlander: Season 3: The Doldrums (Episode 9)\n",
              "3583 2021-02-19 02:18:03-05:00  ...  Outlander: Season 2: Untimely Resurrection (Ep...\n",
              "3027 2021-04-28 01:49:04-04:00  ...        Outlander: Season 3: A. Malcolm (Episode 6)\n",
              "3062 2021-04-25 02:13:55-04:00  ...        Outlander: Season 3: First Wife (Episode 8)\n",
              "3212 2021-04-11 02:45:13-04:00  ...    Outlander: Season 1: Both Sides Now (Episode 8)\n",
              "3026 2021-04-28 02:53:15-04:00  ...  Outlander: Season 4: The Birds & The Bees (Epi...\n",
              "3033 2021-04-27 22:17:49-04:00  ...   Outlander: Season 4: The False Bride (Episode 3)\n",
              "3137 2021-04-18 00:50:53-04:00  ...         Outlander: Season 3: Surrender (Episode 2)\n",
              "3581 2021-02-19 10:41:21-05:00  ...  Outlander: Season 2: Best Laid Schemes (Episod...\n",
              "3605 2021-02-15 01:29:14-05:00  ...  Outlander: Season 1: The Garrison Commander (E...\n",
              "3585 2021-02-18 21:00:25-05:00  ...   Outlander: Season 2: La Dame Blanche (Episode 4)\n",
              "3495 2021-02-28 15:08:49-05:00  ...  Outlander: Season 2: Best Laid Schemes (Episod...\n",
              "3054 2021-04-25 16:02:09-04:00  ...        Outlander: Season 3: The Bakra (Episode 12)\n",
              "3432 2021-03-09 01:06:32-05:00  ...             Outlander: Season 2: Faith (Episode 7)\n",
              "3763 2021-01-26 19:01:02-05:00  ...              Outlander: Season 2_hook_primary_16x9\n",
              "3044 2021-04-26 00:02:14-04:00  ...        Outlander: Season 4: Do No Harm (Episode 2)\n",
              "3607 2021-02-14 23:40:14-05:00  ...     Outlander: Season 1: The Gathering (Episode 4)\n",
              "3609 2021-02-14 22:02:26-05:00  ...      Outlander: Season 1: Castle Leoch (Episode 2)\n",
              "3207 2021-04-11 21:22:53-04:00  ...         Outlander: Season 3: Surrender (Episode 2)\n",
              "\n",
              "[20 rows x 3 columns]"
            ]
          },
          "metadata": {},
          "execution_count": 12
        }
      ]
    },
    {
      "cell_type": "code",
      "source": [
        "outlander.shape"
      ],
      "metadata": {
        "colab": {
          "base_uri": "https://localhost:8080/"
        },
        "id": "0K3Qp0P8S5vP",
        "outputId": "a85c1531-ca4a-428d-b30e-a38ada47be6a"
      },
      "execution_count": 13,
      "outputs": [
        {
          "output_type": "execute_result",
          "data": {
            "text/plain": [
              "(80, 3)"
            ]
          },
          "metadata": {},
          "execution_count": 13
        }
      ]
    },
    {
      "cell_type": "code",
      "source": [
        "outlander = outlander[(outlander['Duration'] > '0 days 00:02:00')]"
      ],
      "metadata": {
        "id": "O0TQEFA4Tf5V"
      },
      "execution_count": 14,
      "outputs": []
    },
    {
      "cell_type": "code",
      "source": [
        "outlander.head(20)"
      ],
      "metadata": {
        "colab": {
          "base_uri": "https://localhost:8080/",
          "height": 676
        },
        "id": "HDD87KIlVIZ_",
        "outputId": "b5ac8267-7b4a-445e-9ee5-358f46662f03"
      },
      "execution_count": 15,
      "outputs": [
        {
          "output_type": "execute_result",
          "data": {
            "text/html": [
              "\n",
              "  <div id=\"df-1f272d40-64d7-42bc-a5c5-3e15c5a1a063\">\n",
              "    <div class=\"colab-df-container\">\n",
              "      <div>\n",
              "<style scoped>\n",
              "    .dataframe tbody tr th:only-of-type {\n",
              "        vertical-align: middle;\n",
              "    }\n",
              "\n",
              "    .dataframe tbody tr th {\n",
              "        vertical-align: top;\n",
              "    }\n",
              "\n",
              "    .dataframe thead th {\n",
              "        text-align: right;\n",
              "    }\n",
              "</style>\n",
              "<table border=\"1\" class=\"dataframe\">\n",
              "  <thead>\n",
              "    <tr style=\"text-align: right;\">\n",
              "      <th></th>\n",
              "      <th>Start Time</th>\n",
              "      <th>Duration</th>\n",
              "      <th>Title</th>\n",
              "    </tr>\n",
              "  </thead>\n",
              "  <tbody>\n",
              "    <tr>\n",
              "      <th>3025</th>\n",
              "      <td>2021-04-28 03:40:38-04:00</td>\n",
              "      <td>0 days 00:11:13</td>\n",
              "      <td>Outlander: Season 4: The Deep Heart's Core (Ep...</td>\n",
              "    </tr>\n",
              "    <tr>\n",
              "      <th>3026</th>\n",
              "      <td>2021-04-28 02:53:15-04:00</td>\n",
              "      <td>0 days 00:47:20</td>\n",
              "      <td>Outlander: Season 4: The Birds &amp; The Bees (Epi...</td>\n",
              "    </tr>\n",
              "    <tr>\n",
              "      <th>3027</th>\n",
              "      <td>2021-04-28 01:49:04-04:00</td>\n",
              "      <td>0 days 01:02:45</td>\n",
              "      <td>Outlander: Season 3: A. Malcolm (Episode 6)</td>\n",
              "    </tr>\n",
              "    <tr>\n",
              "      <th>3028</th>\n",
              "      <td>2021-04-28 00:58:52-04:00</td>\n",
              "      <td>0 days 00:50:03</td>\n",
              "      <td>Outlander: Season 3: Freedom &amp; Whiskey (Episod...</td>\n",
              "    </tr>\n",
              "    <tr>\n",
              "      <th>3029</th>\n",
              "      <td>2021-04-27 23:51:02-04:00</td>\n",
              "      <td>0 days 00:55:53</td>\n",
              "      <td>Outlander: Season 3: Of Lost Things (Episode 4)</td>\n",
              "    </tr>\n",
              "    <tr>\n",
              "      <th>3030</th>\n",
              "      <td>2021-04-27 22:51:41-04:00</td>\n",
              "      <td>0 days 00:56:03</td>\n",
              "      <td>Outlander: Season 3: All Debts Paid (Episode 3)</td>\n",
              "    </tr>\n",
              "    <tr>\n",
              "      <th>3031</th>\n",
              "      <td>2021-04-27 22:29:14-04:00</td>\n",
              "      <td>0 days 00:22:24</td>\n",
              "      <td>Outlander: Season 3: Surrender (Episode 2)</td>\n",
              "    </tr>\n",
              "    <tr>\n",
              "      <th>3033</th>\n",
              "      <td>2021-04-27 22:17:49-04:00</td>\n",
              "      <td>0 days 00:10:16</td>\n",
              "      <td>Outlander: Season 4: The False Bride (Episode 3)</td>\n",
              "    </tr>\n",
              "    <tr>\n",
              "      <th>3034</th>\n",
              "      <td>2021-04-27 21:54:10-04:00</td>\n",
              "      <td>0 days 00:21:35</td>\n",
              "      <td>Outlander: Season 4: Do No Harm (Episode 2)</td>\n",
              "    </tr>\n",
              "    <tr>\n",
              "      <th>3044</th>\n",
              "      <td>2021-04-26 00:02:14-04:00</td>\n",
              "      <td>0 days 00:10:26</td>\n",
              "      <td>Outlander: Season 4: Do No Harm (Episode 2)</td>\n",
              "    </tr>\n",
              "    <tr>\n",
              "      <th>3052</th>\n",
              "      <td>2021-04-25 17:49:05-04:00</td>\n",
              "      <td>0 days 00:33:45</td>\n",
              "      <td>Outlander: Season 4: America the Beautiful (Ep...</td>\n",
              "    </tr>\n",
              "    <tr>\n",
              "      <th>3053</th>\n",
              "      <td>2021-04-25 16:57:17-04:00</td>\n",
              "      <td>0 days 00:19:56</td>\n",
              "      <td>Outlander: Season 3: Eye of the Storm (Episode...</td>\n",
              "    </tr>\n",
              "    <tr>\n",
              "      <th>3054</th>\n",
              "      <td>2021-04-25 16:02:09-04:00</td>\n",
              "      <td>0 days 00:10:30</td>\n",
              "      <td>Outlander: Season 3: The Bakra (Episode 12)</td>\n",
              "    </tr>\n",
              "    <tr>\n",
              "      <th>3055</th>\n",
              "      <td>2021-04-25 15:32:03-04:00</td>\n",
              "      <td>0 days 00:13:39</td>\n",
              "      <td>Outlander: Season 3: Uncharted (Episode 11)</td>\n",
              "    </tr>\n",
              "    <tr>\n",
              "      <th>3059</th>\n",
              "      <td>2021-04-25 04:55:01-04:00</td>\n",
              "      <td>0 days 00:17:36</td>\n",
              "      <td>Outlander: Season 3: Uncharted (Episode 11)</td>\n",
              "    </tr>\n",
              "    <tr>\n",
              "      <th>3060</th>\n",
              "      <td>2021-04-25 04:02:52-04:00</td>\n",
              "      <td>0 days 00:51:52</td>\n",
              "      <td>Outlander: Season 3: Heaven and Earth (Episode...</td>\n",
              "    </tr>\n",
              "    <tr>\n",
              "      <th>3061</th>\n",
              "      <td>2021-04-25 03:10:19-04:00</td>\n",
              "      <td>0 days 00:52:06</td>\n",
              "      <td>Outlander: Season 3: The Doldrums (Episode 9)</td>\n",
              "    </tr>\n",
              "    <tr>\n",
              "      <th>3062</th>\n",
              "      <td>2021-04-25 02:13:55-04:00</td>\n",
              "      <td>0 days 00:55:30</td>\n",
              "      <td>Outlander: Season 3: First Wife (Episode 8)</td>\n",
              "    </tr>\n",
              "    <tr>\n",
              "      <th>3063</th>\n",
              "      <td>2021-04-25 01:26:35-04:00</td>\n",
              "      <td>0 days 00:46:34</td>\n",
              "      <td>Outlander: Season 3: Crème de Menthe (Episode 7)</td>\n",
              "    </tr>\n",
              "    <tr>\n",
              "      <th>3064</th>\n",
              "      <td>2021-04-25 00:21:06-04:00</td>\n",
              "      <td>0 days 01:05:07</td>\n",
              "      <td>Outlander: Season 3: A. Malcolm (Episode 6)</td>\n",
              "    </tr>\n",
              "  </tbody>\n",
              "</table>\n",
              "</div>\n",
              "      <button class=\"colab-df-convert\" onclick=\"convertToInteractive('df-1f272d40-64d7-42bc-a5c5-3e15c5a1a063')\"\n",
              "              title=\"Convert this dataframe to an interactive table.\"\n",
              "              style=\"display:none;\">\n",
              "        \n",
              "  <svg xmlns=\"http://www.w3.org/2000/svg\" height=\"24px\"viewBox=\"0 0 24 24\"\n",
              "       width=\"24px\">\n",
              "    <path d=\"M0 0h24v24H0V0z\" fill=\"none\"/>\n",
              "    <path d=\"M18.56 5.44l.94 2.06.94-2.06 2.06-.94-2.06-.94-.94-2.06-.94 2.06-2.06.94zm-11 1L8.5 8.5l.94-2.06 2.06-.94-2.06-.94L8.5 2.5l-.94 2.06-2.06.94zm10 10l.94 2.06.94-2.06 2.06-.94-2.06-.94-.94-2.06-.94 2.06-2.06.94z\"/><path d=\"M17.41 7.96l-1.37-1.37c-.4-.4-.92-.59-1.43-.59-.52 0-1.04.2-1.43.59L10.3 9.45l-7.72 7.72c-.78.78-.78 2.05 0 2.83L4 21.41c.39.39.9.59 1.41.59.51 0 1.02-.2 1.41-.59l7.78-7.78 2.81-2.81c.8-.78.8-2.07 0-2.86zM5.41 20L4 18.59l7.72-7.72 1.47 1.35L5.41 20z\"/>\n",
              "  </svg>\n",
              "      </button>\n",
              "      \n",
              "  <style>\n",
              "    .colab-df-container {\n",
              "      display:flex;\n",
              "      flex-wrap:wrap;\n",
              "      gap: 12px;\n",
              "    }\n",
              "\n",
              "    .colab-df-convert {\n",
              "      background-color: #E8F0FE;\n",
              "      border: none;\n",
              "      border-radius: 50%;\n",
              "      cursor: pointer;\n",
              "      display: none;\n",
              "      fill: #1967D2;\n",
              "      height: 32px;\n",
              "      padding: 0 0 0 0;\n",
              "      width: 32px;\n",
              "    }\n",
              "\n",
              "    .colab-df-convert:hover {\n",
              "      background-color: #E2EBFA;\n",
              "      box-shadow: 0px 1px 2px rgba(60, 64, 67, 0.3), 0px 1px 3px 1px rgba(60, 64, 67, 0.15);\n",
              "      fill: #174EA6;\n",
              "    }\n",
              "\n",
              "    [theme=dark] .colab-df-convert {\n",
              "      background-color: #3B4455;\n",
              "      fill: #D2E3FC;\n",
              "    }\n",
              "\n",
              "    [theme=dark] .colab-df-convert:hover {\n",
              "      background-color: #434B5C;\n",
              "      box-shadow: 0px 1px 3px 1px rgba(0, 0, 0, 0.15);\n",
              "      filter: drop-shadow(0px 1px 2px rgba(0, 0, 0, 0.3));\n",
              "      fill: #FFFFFF;\n",
              "    }\n",
              "  </style>\n",
              "\n",
              "      <script>\n",
              "        const buttonEl =\n",
              "          document.querySelector('#df-1f272d40-64d7-42bc-a5c5-3e15c5a1a063 button.colab-df-convert');\n",
              "        buttonEl.style.display =\n",
              "          google.colab.kernel.accessAllowed ? 'block' : 'none';\n",
              "\n",
              "        async function convertToInteractive(key) {\n",
              "          const element = document.querySelector('#df-1f272d40-64d7-42bc-a5c5-3e15c5a1a063');\n",
              "          const dataTable =\n",
              "            await google.colab.kernel.invokeFunction('convertToInteractive',\n",
              "                                                     [key], {});\n",
              "          if (!dataTable) return;\n",
              "\n",
              "          const docLinkHtml = 'Like what you see? Visit the ' +\n",
              "            '<a target=\"_blank\" href=https://colab.research.google.com/notebooks/data_table.ipynb>data table notebook</a>'\n",
              "            + ' to learn more about interactive tables.';\n",
              "          element.innerHTML = '';\n",
              "          dataTable['output_type'] = 'display_data';\n",
              "          await google.colab.output.renderOutput(dataTable, element);\n",
              "          const docLink = document.createElement('div');\n",
              "          docLink.innerHTML = docLinkHtml;\n",
              "          element.appendChild(docLink);\n",
              "        }\n",
              "      </script>\n",
              "    </div>\n",
              "  </div>\n",
              "  "
            ],
            "text/plain": [
              "                    Start Time  ...                                              Title\n",
              "3025 2021-04-28 03:40:38-04:00  ...  Outlander: Season 4: The Deep Heart's Core (Ep...\n",
              "3026 2021-04-28 02:53:15-04:00  ...  Outlander: Season 4: The Birds & The Bees (Epi...\n",
              "3027 2021-04-28 01:49:04-04:00  ...        Outlander: Season 3: A. Malcolm (Episode 6)\n",
              "3028 2021-04-28 00:58:52-04:00  ...  Outlander: Season 3: Freedom & Whiskey (Episod...\n",
              "3029 2021-04-27 23:51:02-04:00  ...    Outlander: Season 3: Of Lost Things (Episode 4)\n",
              "3030 2021-04-27 22:51:41-04:00  ...    Outlander: Season 3: All Debts Paid (Episode 3)\n",
              "3031 2021-04-27 22:29:14-04:00  ...         Outlander: Season 3: Surrender (Episode 2)\n",
              "3033 2021-04-27 22:17:49-04:00  ...   Outlander: Season 4: The False Bride (Episode 3)\n",
              "3034 2021-04-27 21:54:10-04:00  ...        Outlander: Season 4: Do No Harm (Episode 2)\n",
              "3044 2021-04-26 00:02:14-04:00  ...        Outlander: Season 4: Do No Harm (Episode 2)\n",
              "3052 2021-04-25 17:49:05-04:00  ...  Outlander: Season 4: America the Beautiful (Ep...\n",
              "3053 2021-04-25 16:57:17-04:00  ...  Outlander: Season 3: Eye of the Storm (Episode...\n",
              "3054 2021-04-25 16:02:09-04:00  ...        Outlander: Season 3: The Bakra (Episode 12)\n",
              "3055 2021-04-25 15:32:03-04:00  ...        Outlander: Season 3: Uncharted (Episode 11)\n",
              "3059 2021-04-25 04:55:01-04:00  ...        Outlander: Season 3: Uncharted (Episode 11)\n",
              "3060 2021-04-25 04:02:52-04:00  ...  Outlander: Season 3: Heaven and Earth (Episode...\n",
              "3061 2021-04-25 03:10:19-04:00  ...      Outlander: Season 3: The Doldrums (Episode 9)\n",
              "3062 2021-04-25 02:13:55-04:00  ...        Outlander: Season 3: First Wife (Episode 8)\n",
              "3063 2021-04-25 01:26:35-04:00  ...   Outlander: Season 3: Crème de Menthe (Episode 7)\n",
              "3064 2021-04-25 00:21:06-04:00  ...        Outlander: Season 3: A. Malcolm (Episode 6)\n",
              "\n",
              "[20 rows x 3 columns]"
            ]
          },
          "metadata": {},
          "execution_count": 15
        }
      ]
    },
    {
      "cell_type": "code",
      "source": [
        "outlander.shape"
      ],
      "metadata": {
        "colab": {
          "base_uri": "https://localhost:8080/"
        },
        "id": "dlQjt22tVNNy",
        "outputId": "83a6f1b3-2c82-49d7-8f1d-8ff87480c62d"
      },
      "execution_count": 16,
      "outputs": [
        {
          "output_type": "execute_result",
          "data": {
            "text/plain": [
              "(65, 3)"
            ]
          },
          "metadata": {},
          "execution_count": 16
        }
      ]
    },
    {
      "cell_type": "code",
      "source": [
        "outlander['Duration'].sum()"
      ],
      "metadata": {
        "colab": {
          "base_uri": "https://localhost:8080/"
        },
        "id": "Q1FcVOxJVenj",
        "outputId": "f37ebcd2-e0d8-40bc-c4cc-0f1666fb6e87"
      },
      "execution_count": 17,
      "outputs": [
        {
          "output_type": "execute_result",
          "data": {
            "text/plain": [
              "Timedelta('1 days 10:31:55')"
            ]
          },
          "metadata": {},
          "execution_count": 17
        }
      ]
    },
    {
      "cell_type": "code",
      "source": [
        "outlander['weekday'] = outlander['Start Time'].dt.weekday\n",
        "outlander['hour'] = outlander['Start Time'].dt.hour\n",
        "# check to make sure the columns were added correctly\n",
        "outlander.head(1)"
      ],
      "metadata": {
        "colab": {
          "base_uri": "https://localhost:8080/",
          "height": 81
        },
        "id": "pY8-40bdV6y1",
        "outputId": "d2b160f3-cca9-462c-940d-15acd3650ba3"
      },
      "execution_count": 18,
      "outputs": [
        {
          "output_type": "execute_result",
          "data": {
            "text/html": [
              "\n",
              "  <div id=\"df-38ec72ab-7212-498f-b87a-b0e1e7a93c35\">\n",
              "    <div class=\"colab-df-container\">\n",
              "      <div>\n",
              "<style scoped>\n",
              "    .dataframe tbody tr th:only-of-type {\n",
              "        vertical-align: middle;\n",
              "    }\n",
              "\n",
              "    .dataframe tbody tr th {\n",
              "        vertical-align: top;\n",
              "    }\n",
              "\n",
              "    .dataframe thead th {\n",
              "        text-align: right;\n",
              "    }\n",
              "</style>\n",
              "<table border=\"1\" class=\"dataframe\">\n",
              "  <thead>\n",
              "    <tr style=\"text-align: right;\">\n",
              "      <th></th>\n",
              "      <th>Start Time</th>\n",
              "      <th>Duration</th>\n",
              "      <th>Title</th>\n",
              "      <th>weekday</th>\n",
              "      <th>hour</th>\n",
              "    </tr>\n",
              "  </thead>\n",
              "  <tbody>\n",
              "    <tr>\n",
              "      <th>3025</th>\n",
              "      <td>2021-04-28 03:40:38-04:00</td>\n",
              "      <td>0 days 00:11:13</td>\n",
              "      <td>Outlander: Season 4: The Deep Heart's Core (Ep...</td>\n",
              "      <td>2</td>\n",
              "      <td>3</td>\n",
              "    </tr>\n",
              "  </tbody>\n",
              "</table>\n",
              "</div>\n",
              "      <button class=\"colab-df-convert\" onclick=\"convertToInteractive('df-38ec72ab-7212-498f-b87a-b0e1e7a93c35')\"\n",
              "              title=\"Convert this dataframe to an interactive table.\"\n",
              "              style=\"display:none;\">\n",
              "        \n",
              "  <svg xmlns=\"http://www.w3.org/2000/svg\" height=\"24px\"viewBox=\"0 0 24 24\"\n",
              "       width=\"24px\">\n",
              "    <path d=\"M0 0h24v24H0V0z\" fill=\"none\"/>\n",
              "    <path d=\"M18.56 5.44l.94 2.06.94-2.06 2.06-.94-2.06-.94-.94-2.06-.94 2.06-2.06.94zm-11 1L8.5 8.5l.94-2.06 2.06-.94-2.06-.94L8.5 2.5l-.94 2.06-2.06.94zm10 10l.94 2.06.94-2.06 2.06-.94-2.06-.94-.94-2.06-.94 2.06-2.06.94z\"/><path d=\"M17.41 7.96l-1.37-1.37c-.4-.4-.92-.59-1.43-.59-.52 0-1.04.2-1.43.59L10.3 9.45l-7.72 7.72c-.78.78-.78 2.05 0 2.83L4 21.41c.39.39.9.59 1.41.59.51 0 1.02-.2 1.41-.59l7.78-7.78 2.81-2.81c.8-.78.8-2.07 0-2.86zM5.41 20L4 18.59l7.72-7.72 1.47 1.35L5.41 20z\"/>\n",
              "  </svg>\n",
              "      </button>\n",
              "      \n",
              "  <style>\n",
              "    .colab-df-container {\n",
              "      display:flex;\n",
              "      flex-wrap:wrap;\n",
              "      gap: 12px;\n",
              "    }\n",
              "\n",
              "    .colab-df-convert {\n",
              "      background-color: #E8F0FE;\n",
              "      border: none;\n",
              "      border-radius: 50%;\n",
              "      cursor: pointer;\n",
              "      display: none;\n",
              "      fill: #1967D2;\n",
              "      height: 32px;\n",
              "      padding: 0 0 0 0;\n",
              "      width: 32px;\n",
              "    }\n",
              "\n",
              "    .colab-df-convert:hover {\n",
              "      background-color: #E2EBFA;\n",
              "      box-shadow: 0px 1px 2px rgba(60, 64, 67, 0.3), 0px 1px 3px 1px rgba(60, 64, 67, 0.15);\n",
              "      fill: #174EA6;\n",
              "    }\n",
              "\n",
              "    [theme=dark] .colab-df-convert {\n",
              "      background-color: #3B4455;\n",
              "      fill: #D2E3FC;\n",
              "    }\n",
              "\n",
              "    [theme=dark] .colab-df-convert:hover {\n",
              "      background-color: #434B5C;\n",
              "      box-shadow: 0px 1px 3px 1px rgba(0, 0, 0, 0.15);\n",
              "      filter: drop-shadow(0px 1px 2px rgba(0, 0, 0, 0.3));\n",
              "      fill: #FFFFFF;\n",
              "    }\n",
              "  </style>\n",
              "\n",
              "      <script>\n",
              "        const buttonEl =\n",
              "          document.querySelector('#df-38ec72ab-7212-498f-b87a-b0e1e7a93c35 button.colab-df-convert');\n",
              "        buttonEl.style.display =\n",
              "          google.colab.kernel.accessAllowed ? 'block' : 'none';\n",
              "\n",
              "        async function convertToInteractive(key) {\n",
              "          const element = document.querySelector('#df-38ec72ab-7212-498f-b87a-b0e1e7a93c35');\n",
              "          const dataTable =\n",
              "            await google.colab.kernel.invokeFunction('convertToInteractive',\n",
              "                                                     [key], {});\n",
              "          if (!dataTable) return;\n",
              "\n",
              "          const docLinkHtml = 'Like what you see? Visit the ' +\n",
              "            '<a target=\"_blank\" href=https://colab.research.google.com/notebooks/data_table.ipynb>data table notebook</a>'\n",
              "            + ' to learn more about interactive tables.';\n",
              "          element.innerHTML = '';\n",
              "          dataTable['output_type'] = 'display_data';\n",
              "          await google.colab.output.renderOutput(dataTable, element);\n",
              "          const docLink = document.createElement('div');\n",
              "          docLink.innerHTML = docLinkHtml;\n",
              "          element.appendChild(docLink);\n",
              "        }\n",
              "      </script>\n",
              "    </div>\n",
              "  </div>\n",
              "  "
            ],
            "text/plain": [
              "                    Start Time        Duration  ... weekday  hour\n",
              "3025 2021-04-28 03:40:38-04:00 0 days 00:11:13  ...       2     3\n",
              "\n",
              "[1 rows x 5 columns]"
            ]
          },
          "metadata": {},
          "execution_count": 18
        }
      ]
    },
    {
      "cell_type": "code",
      "source": [
        "import matplotlib.pyplot as plt\n"
      ],
      "metadata": {
        "id": "BtECUi6BX0-R"
      },
      "execution_count": 19,
      "outputs": []
    },
    {
      "cell_type": "code",
      "source": [
        "outlander['weekday'] = pd.Categorical(outlander['weekday'], categories= [0,1,2,3,4,5,6], ordered=True)\n",
        "# create office_by_day and count the rows for each weekday, assigning the result to that variable\n",
        "outlander_by_day = outlander['weekday'].value_counts()# sort the index using our categorical, so that Monday (0) is first, Tuesday (1) is second, etc.\n",
        "outlander_by_day = outlander_by_day.sort_index()# plot office_by_day as a bar chart with the listed size and title\n",
        "outlander_by_day.plot(kind='bar', figsize=(20,10), title='Outlander Episodes Watched by Day')"
      ],
      "metadata": {
        "colab": {
          "base_uri": "https://localhost:8080/",
          "height": 602
        },
        "id": "-8Fa7XWAbhHl",
        "outputId": "7a9b3aed-bdda-40eb-d46d-0952fc5e548b"
      },
      "execution_count": 20,
      "outputs": [
        {
          "output_type": "execute_result",
          "data": {
            "text/plain": [
              "<matplotlib.axes._subplots.AxesSubplot at 0x7f7ed8d16cd0>"
            ]
          },
          "metadata": {},
          "execution_count": 20
        },
        {
          "output_type": "display_data",
          "data": {
            "image/png": "[encoded data removed]",
            "text/plain": [
              "<Figure size 1440x720 with 1 Axes>"
            ]
          },
          "metadata": {
            "needs_background": "light"
          }
        }
      ]
    },
    {
      "cell_type": "code",
      "source": [
        "outlander['hour'] = pd.Categorical(outlander['hour'], categories= [0,1,2,3,4,5,6,7,8,9,10,11,12,13,14,15,16,17,18,19,20,21,22,23], ordered=True)# create outlander_by_hour and count the rows for each hour, assigning the result to that variable\n",
        "outlander_by_hour = outlander['hour'].value_counts()# sort the index using our categorical, so that midnight (0) is first, 1 a.m. (1) is second, etc.\n",
        "outlander_by_hour = outlander_by_hour.sort_index()# plot office_by_hour as a bar chart with the listed size and title\n",
        "outlander_by_hour.plot(kind='bar', figsize=(20,10), title='Outlander Episodes Watched by Hour')"
      ],
      "metadata": {
        "colab": {
          "base_uri": "https://localhost:8080/",
          "height": 612
        },
        "id": "gl0Ig9l0hURn",
        "outputId": "c9decbea-3186-4445-bc80-37a19bb32f6b"
      },
      "execution_count": 21,
      "outputs": [
        {
          "output_type": "execute_result",
          "data": {
            "text/plain": [
              "<matplotlib.axes._subplots.AxesSubplot at 0x7f7ed8c0a9d0>"
            ]
          },
          "metadata": {},
          "execution_count": 21
        },
        {
          "output_type": "display_data",
          "data": {
            "image/png": "[encoded data removed]",
            "text/plain": [
              "<Figure size 1440x720 with 1 Axes>"
            ]
          },
          "metadata": {
            "needs_background": "light"
          }
        }
      ]
    }
  ]
}